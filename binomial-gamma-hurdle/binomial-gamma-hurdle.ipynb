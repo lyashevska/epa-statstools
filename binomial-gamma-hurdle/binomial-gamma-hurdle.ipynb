{
 "cells": [
  {
   "cell_type": "markdown",
   "metadata": {},
   "source": [
    "## Binomial-Gamma Hurdle Models "
   ]
  },
  {
   "cell_type": "markdown",
   "metadata": {},
   "source": [
    "### Model description\n",
    "\n",
    "Dependent variable, a number of animals observed per minute (y) is semi-continuous (i.e. a point mass in a single value and a continuous distribution elsewhere). The data generating process for this type of data can be modelled using a gamma distribution. The main problem is however that response variable has a high proportion of zeros (96%), which is more than expected from a gamma distribution with, therefore it cannot be readily applied.\n",
    "\n",
    "Lets consider the two common methods for dealing with zero-inflated data:\n",
    "\n",
    "(1) Modelling a zero-inflation parameter that represents the probability a given 0 comes from the main distribution (say the negative binomial distribution) or is an excess 0;\n",
    "(2) Modelling the zero and non-zero data with one model and then modelling the non-zero data with another. This is often called a hurdle model.\n",
    "\n",
    "In (1), the response variable is modelled as a mixture of a Bernoulli distribution (a point mass at zero) and a Poisson distribution (or any other count distribution supported on non-negative integers).\n",
    "In (2), the basic idea is that a Bernoulli probability governs the binary outcome of whether a variable has a zero or positive realization. If the realization is positive, the hurdle is crossed, and the conditional distribution of the positives is governed by a truncated-at-zero model. Hurdle models model the zeros and non-zeros as two separate processes and can be useful in that they allow you to model the zeros and non-zeros with different predictors or different roles of the same predictors.\n",
    "\n",
    "Zero-inflation models may be more elegant and informative if the same predictors are thought to contribute to the extra and real zeros.\n",
    "\n",
    "Hurdle models can be useful in that they allow you to model the zeros and non-zeros with different predictors or different roles of the same predictors. Maybe one process leads to the zero/non-zero data and another leads to the non-zero magnitude.\n",
    "\n",
    "Here we shall focus on (2) and model the zeros separately from the non-zeros in a binomial-Gamma hurdle model.\n"
   ]
  },
  {
   "cell_type": "markdown",
   "metadata": {},
   "source": [
    "### Load libraries"
   ]
  },
  {
   "cell_type": "code",
   "execution_count": 1,
   "metadata": {},
   "outputs": [
    {
     "name": "stderr",
     "output_type": "stream",
     "text": [
      "Loading required package: Matrix\n",
      "Loading required package: carData\n",
      "lattice theme set by effectsTheme()\n",
      "See ?effectsTheme for details.\n"
     ]
    }
   ],
   "source": [
    "library(ggplot2)\n",
    "# library(lmtest)\n",
    "# library(tidyverse)\n",
    "library(lme4)\n",
    "library(effects)\n",
    "library(optimx)"
   ]
  },
  {
   "cell_type": "code",
   "execution_count": 2,
   "metadata": {},
   "outputs": [],
   "source": [
    "set.seed(4322)"
   ]
  },
  {
   "cell_type": "code",
   "execution_count": 15,
   "metadata": {},
   "outputs": [],
   "source": [
    "# require(devtools)\n",
    "# install_version(\"effects\", version = \"4.0-0\")"
   ]
  },
  {
   "cell_type": "markdown",
   "metadata": {},
   "source": [
    "### Read in data"
   ]
  },
  {
   "cell_type": "code",
   "execution_count": 3,
   "metadata": {},
   "outputs": [],
   "source": [
    "dat <- read.csv(file = 'data.csv', row.names=1)\n",
    "# sunfish <- read.csv('ignore/sunfish.csv')"
   ]
  },
  {
   "cell_type": "markdown",
   "metadata": {},
   "source": [
    "Variable y is a response variable, variables x1 and x2 are explanatory variables. Variable x1 represent a number of observers, variable x2 represent an environmental variable (such as sea surface temperature)."
   ]
  },
  {
   "cell_type": "code",
   "execution_count": 4,
   "metadata": {},
   "outputs": [
    {
     "data": {
      "text/html": [
       "<table>\n",
       "<thead><tr><th scope=col>y</th><th scope=col>x1</th><th scope=col>x2</th><th scope=col>year</th></tr></thead>\n",
       "<tbody>\n",
       "\t<tr><td>0.0000000</td><td> 30      </td><td>10.40875 </td><td>1971     </td></tr>\n",
       "\t<tr><td>0.1184611</td><td> 30      </td><td>10.40875 </td><td>1971     </td></tr>\n",
       "\t<tr><td>0.0000000</td><td> 90      </td><td>10.40875 </td><td>1971     </td></tr>\n",
       "\t<tr><td>0.0000000</td><td>210      </td><td>10.40875 </td><td>1971     </td></tr>\n",
       "\t<tr><td>0.0000000</td><td>300      </td><td>10.40875 </td><td>1971     </td></tr>\n",
       "\t<tr><td>0.0000000</td><td>150      </td><td>10.40875 </td><td>1971     </td></tr>\n",
       "</tbody>\n",
       "</table>\n"
      ],
      "text/latex": [
       "\\begin{tabular}{r|llll}\n",
       " y & x1 & x2 & year\\\\\n",
       "\\hline\n",
       "\t 0.0000000 &  30       & 10.40875  & 1971     \\\\\n",
       "\t 0.1184611 &  30       & 10.40875  & 1971     \\\\\n",
       "\t 0.0000000 &  90       & 10.40875  & 1971     \\\\\n",
       "\t 0.0000000 & 210       & 10.40875  & 1971     \\\\\n",
       "\t 0.0000000 & 300       & 10.40875  & 1971     \\\\\n",
       "\t 0.0000000 & 150       & 10.40875  & 1971     \\\\\n",
       "\\end{tabular}\n"
      ],
      "text/markdown": [
       "\n",
       "y | x1 | x2 | year | \n",
       "|---|---|---|---|---|---|\n",
       "| 0.0000000 |  30       | 10.40875  | 1971      | \n",
       "| 0.1184611 |  30       | 10.40875  | 1971      | \n",
       "| 0.0000000 |  90       | 10.40875  | 1971      | \n",
       "| 0.0000000 | 210       | 10.40875  | 1971      | \n",
       "| 0.0000000 | 300       | 10.40875  | 1971      | \n",
       "| 0.0000000 | 150       | 10.40875  | 1971      | \n",
       "\n",
       "\n"
      ],
      "text/plain": [
       "  y         x1  x2       year\n",
       "1 0.0000000  30 10.40875 1971\n",
       "2 0.1184611  30 10.40875 1971\n",
       "3 0.0000000  90 10.40875 1971\n",
       "4 0.0000000 210 10.40875 1971\n",
       "5 0.0000000 300 10.40875 1971\n",
       "6 0.0000000 150 10.40875 1971"
      ]
     },
     "metadata": {},
     "output_type": "display_data"
    }
   ],
   "source": [
    "head(dat)"
   ]
  },
  {
   "cell_type": "markdown",
   "metadata": {},
   "source": [
    "### Scale data"
   ]
  },
  {
   "cell_type": "code",
   "execution_count": 5,
   "metadata": {},
   "outputs": [
    {
     "data": {
      "text/plain": [
       "       y                  x1            x2              year     \n",
       " Min.   :0.000000   Min.   :  5   Min.   : 9.207   Min.   :1971  \n",
       " 1st Qu.:0.000000   1st Qu.: 30   1st Qu.:13.169   1st Qu.:1984  \n",
       " Median :0.000000   Median : 60   Median :15.261   Median :1998  \n",
       " Mean   :0.002485   Mean   :128   Mean   :14.621   Mean   :1996  \n",
       " 3rd Qu.:0.000000   3rd Qu.:180   3rd Qu.:16.288   3rd Qu.:2009  \n",
       " Max.   :0.133199   Max.   :960   Max.   :18.168   Max.   :2017  \n",
       "                    NA's   :363   NA's   :61                     \n",
       "     x1_sc             x2_sc        \n",
       " Min.   :-0.8945   Min.   :-2.5651  \n",
       " 1st Qu.:-0.7126   1st Qu.:-0.6882  \n",
       " Median :-0.4944   Median : 0.3032  \n",
       " Mean   : 0.0000   Mean   : 0.0000  \n",
       " 3rd Qu.: 0.3786   3rd Qu.: 0.7894  \n",
       " Max.   : 6.0531   Max.   : 1.6802  \n",
       " NA's   :363       NA's   :61       "
      ]
     },
     "metadata": {},
     "output_type": "display_data"
    }
   ],
   "source": [
    "# select variables to scale\n",
    "cols = c(\"x1\", \"x2\")\n",
    "# scale variables and add to a df\n",
    "dat[, paste0(cols, \"_\", \"sc\")] <- scale(dat[ ,cols])\n",
    "summary(dat)"
   ]
  },
  {
   "cell_type": "markdown",
   "metadata": {},
   "source": [
    "### Binomial model\n",
    "\n",
    "When relating the sightings to temperature what we are interested in detecting are annual trends over and above seasonal fluctuations that we would expect. So we would expect that within each year as temperature increases during spring and summer and zooplankton blooms occur, sunfish sightings will increase. What we want to know is -- in a year when zooplankton abundance and temperatures are high are sunfish sightings also high. \n"
   ]
  },
  {
   "cell_type": "code",
   "execution_count": 6,
   "metadata": {},
   "outputs": [
    {
     "data": {
      "text/plain": [
       "\n",
       "Call:\n",
       "glm(formula = ifelse(dat$y > 0, 1, 0) ~ x1_sc + x2_sc + year, \n",
       "    family = binomial(link = logit), data = dat)\n",
       "\n",
       "Deviance Residuals: \n",
       "    Min       1Q   Median       3Q      Max  \n",
       "-0.3114  -0.2885  -0.2789  -0.2601   2.8235  \n",
       "\n",
       "Coefficients:\n",
       "             Estimate Std. Error z value Pr(>|z|)  \n",
       "(Intercept) -0.152262  12.235934  -0.012   0.9901  \n",
       "x1_sc       -0.174758   0.102027  -1.713   0.0867 .\n",
       "x2_sc       -0.052618   0.080658  -0.652   0.5142  \n",
       "year        -0.001567   0.006135  -0.255   0.7984  \n",
       "---\n",
       "Signif. codes:  0 ‘***’ 0.001 ‘**’ 0.01 ‘*’ 0.05 ‘.’ 0.1 ‘ ’ 1\n",
       "\n",
       "(Dispersion parameter for binomial family taken to be 1)\n",
       "\n",
       "    Null deviance: 1455.7  on 4609  degrees of freedom\n",
       "Residual deviance: 1450.7  on 4606  degrees of freedom\n",
       "  (365 observations deleted due to missingness)\n",
       "AIC: 1458.7\n",
       "\n",
       "Number of Fisher Scoring iterations: 6\n"
      ]
     },
     "metadata": {},
     "output_type": "display_data"
    }
   ],
   "source": [
    "summary(glm(ifelse(dat$y>0,1,0) ~\n",
    "            x1_sc +\n",
    "            x2_sc +\n",
    "            year,\n",
    "            data = dat,\n",
    "        family = binomial(link = logit)))"
   ]
  },
  {
   "cell_type": "markdown",
   "metadata": {},
   "source": [
    "We see that observer related variables (x1) is significant. We try to isolate its effect for each year.\n",
    "We apply a mixed-effect modeling framework and fit a varying intercept model with lmer. This approach is useful when we are interested explicitly in variation among and by groups. Group level variables are specified using a special syntax: (1|year) to fit a linear model with a varying-intercept group effect using the variable year.\n",
    "\n"
   ]
  },
  {
   "cell_type": "markdown",
   "metadata": {},
   "source": [
    "We include 'year' as random effect with noise variables."
   ]
  },
  {
   "cell_type": "code",
   "execution_count": 7,
   "metadata": {},
   "outputs": [],
   "source": [
    "m.bin.full.re <- glmer(ifelse(dat$y>0,1,0) ~\n",
    "             x1_sc +\n",
    "             (1|year) ,\n",
    "           data = dat,\n",
    "#            control = glmerControl(optimizer ='optimx', optCtrl=list(method='nlminb')),\n",
    "           family = binomial(link = logit))"
   ]
  },
  {
   "cell_type": "code",
   "execution_count": 8,
   "metadata": {},
   "outputs": [
    {
     "data": {
      "text/plain": [
       "Generalized linear mixed model fit by maximum likelihood (Laplace\n",
       "  Approximation) [glmerMod]\n",
       " Family: binomial  ( logit )\n",
       "Formula: ifelse(dat$y > 0, 1, 0) ~ x1_sc + (1 | year)\n",
       "   Data: dat\n",
       "\n",
       "     AIC      BIC   logLik deviance df.resid \n",
       "  1457.4   1476.7   -725.7   1451.4     4609 \n",
       "\n",
       "Scaled residuals: \n",
       "    Min      1Q  Median      3Q     Max \n",
       "-0.2114 -0.2066 -0.2027 -0.1871  7.2335 \n",
       "\n",
       "Random effects:\n",
       " Groups Name        Variance Std.Dev.\n",
       " year   (Intercept) 0.002407 0.04907 \n",
       "Number of obs: 4612, groups:  year, 44\n",
       "\n",
       "Fixed effects:\n",
       "            Estimate Std. Error z value Pr(>|z|)    \n",
       "(Intercept) -3.27872    0.08461 -38.751   <2e-16 ***\n",
       "x1_sc       -0.18641    0.09471  -1.968    0.049 *  \n",
       "---\n",
       "Signif. codes:  0 ‘***’ 0.001 ‘**’ 0.01 ‘*’ 0.05 ‘.’ 0.1 ‘ ’ 1\n",
       "\n",
       "Correlation of Fixed Effects:\n",
       "      (Intr)\n",
       "x1_sc 0.147 "
      ]
     },
     "metadata": {},
     "output_type": "display_data"
    }
   ],
   "source": [
    "summary(m.bin.full.re)"
   ]
  },
  {
   "cell_type": "markdown",
   "metadata": {},
   "source": [
    "Random effects are conditional modes - the difference between the average predicted response for a given set of fixed-effect values (observer related variables) and the response predicted for particular year."
   ]
  },
  {
   "cell_type": "code",
   "execution_count": 12,
   "metadata": {},
   "outputs": [],
   "source": [
    "ranef.bin.dat<-as.data.frame(ranef(m.bin.full.re))[c(3,4)]\n",
    "# rename\n",
    "colnames(ranef.bin.dat)[2] <- \"reyear\""
   ]
  },
  {
   "cell_type": "code",
   "execution_count": 13,
   "metadata": {},
   "outputs": [
    {
     "data": {
      "text/html": [
       "<table>\n",
       "<thead><tr><th scope=col>grp</th><th scope=col>reyear</th></tr></thead>\n",
       "<tbody>\n",
       "\t<tr><td>1971         </td><td> 0.0137390698</td></tr>\n",
       "\t<tr><td>1972         </td><td> 0.0035901339</td></tr>\n",
       "\t<tr><td>1973         </td><td>-0.0042083611</td></tr>\n",
       "\t<tr><td>1974         </td><td>-0.0048717533</td></tr>\n",
       "\t<tr><td>1975         </td><td> 0.0022349064</td></tr>\n",
       "\t<tr><td>1976         </td><td> 0.0009954729</td></tr>\n",
       "</tbody>\n",
       "</table>\n"
      ],
      "text/latex": [
       "\\begin{tabular}{r|ll}\n",
       " grp & reyear\\\\\n",
       "\\hline\n",
       "\t 1971          &  0.0137390698\\\\\n",
       "\t 1972          &  0.0035901339\\\\\n",
       "\t 1973          & -0.0042083611\\\\\n",
       "\t 1974          & -0.0048717533\\\\\n",
       "\t 1975          &  0.0022349064\\\\\n",
       "\t 1976          &  0.0009954729\\\\\n",
       "\\end{tabular}\n"
      ],
      "text/markdown": [
       "\n",
       "grp | reyear | \n",
       "|---|---|---|---|---|---|\n",
       "| 1971          |  0.0137390698 | \n",
       "| 1972          |  0.0035901339 | \n",
       "| 1973          | -0.0042083611 | \n",
       "| 1974          | -0.0048717533 | \n",
       "| 1975          |  0.0022349064 | \n",
       "| 1976          |  0.0009954729 | \n",
       "\n",
       "\n"
      ],
      "text/plain": [
       "  grp  reyear       \n",
       "1 1971  0.0137390698\n",
       "2 1972  0.0035901339\n",
       "3 1973 -0.0042083611\n",
       "4 1974 -0.0048717533\n",
       "5 1975  0.0022349064\n",
       "6 1976  0.0009954729"
      ]
     },
     "metadata": {},
     "output_type": "display_data"
    }
   ],
   "source": [
    "head(ranef.bin.dat)"
   ]
  },
  {
   "cell_type": "code",
   "execution_count": 14,
   "metadata": {},
   "outputs": [],
   "source": [
    "# merge with dat by column year\n",
    "dat.bin.re<-merge(dat,ranef.bin.dat, by.x = \"year\", by.y = \"grp\")"
   ]
  },
  {
   "cell_type": "code",
   "execution_count": 15,
   "metadata": {},
   "outputs": [
    {
     "data": {
      "text/html": [
       "<table>\n",
       "<thead><tr><th scope=col>year</th><th scope=col>y</th><th scope=col>x1</th><th scope=col>x2</th><th scope=col>x1_sc</th><th scope=col>x2_sc</th><th scope=col>reyear</th></tr></thead>\n",
       "<tbody>\n",
       "\t<tr><td>1971      </td><td>0.0000000 </td><td> 30       </td><td>10.40875  </td><td>-0.7126393</td><td>-1.995932 </td><td>0.01373907</td></tr>\n",
       "\t<tr><td>1971      </td><td>0.1184611 </td><td> 30       </td><td>10.40875  </td><td>-0.7126393</td><td>-1.995932 </td><td>0.01373907</td></tr>\n",
       "\t<tr><td>1971      </td><td>0.0000000 </td><td> 90       </td><td>10.40875  </td><td>-0.2761402</td><td>-1.995932 </td><td>0.01373907</td></tr>\n",
       "\t<tr><td>1971      </td><td>0.0000000 </td><td>210       </td><td>10.40875  </td><td> 0.5968579</td><td>-1.995932 </td><td>0.01373907</td></tr>\n",
       "\t<tr><td>1971      </td><td>0.0000000 </td><td>300       </td><td>10.40875  </td><td> 1.2516065</td><td>-1.995932 </td><td>0.01373907</td></tr>\n",
       "\t<tr><td>1971      </td><td>0.0000000 </td><td>150       </td><td>10.40875  </td><td> 0.1603588</td><td>-1.995932 </td><td>0.01373907</td></tr>\n",
       "</tbody>\n",
       "</table>\n"
      ],
      "text/latex": [
       "\\begin{tabular}{r|lllllll}\n",
       " year & y & x1 & x2 & x1\\_sc & x2\\_sc & reyear\\\\\n",
       "\\hline\n",
       "\t 1971       & 0.0000000  &  30        & 10.40875   & -0.7126393 & -1.995932  & 0.01373907\\\\\n",
       "\t 1971       & 0.1184611  &  30        & 10.40875   & -0.7126393 & -1.995932  & 0.01373907\\\\\n",
       "\t 1971       & 0.0000000  &  90        & 10.40875   & -0.2761402 & -1.995932  & 0.01373907\\\\\n",
       "\t 1971       & 0.0000000  & 210        & 10.40875   &  0.5968579 & -1.995932  & 0.01373907\\\\\n",
       "\t 1971       & 0.0000000  & 300        & 10.40875   &  1.2516065 & -1.995932  & 0.01373907\\\\\n",
       "\t 1971       & 0.0000000  & 150        & 10.40875   &  0.1603588 & -1.995932  & 0.01373907\\\\\n",
       "\\end{tabular}\n"
      ],
      "text/markdown": [
       "\n",
       "year | y | x1 | x2 | x1_sc | x2_sc | reyear | \n",
       "|---|---|---|---|---|---|\n",
       "| 1971       | 0.0000000  |  30        | 10.40875   | -0.7126393 | -1.995932  | 0.01373907 | \n",
       "| 1971       | 0.1184611  |  30        | 10.40875   | -0.7126393 | -1.995932  | 0.01373907 | \n",
       "| 1971       | 0.0000000  |  90        | 10.40875   | -0.2761402 | -1.995932  | 0.01373907 | \n",
       "| 1971       | 0.0000000  | 210        | 10.40875   |  0.5968579 | -1.995932  | 0.01373907 | \n",
       "| 1971       | 0.0000000  | 300        | 10.40875   |  1.2516065 | -1.995932  | 0.01373907 | \n",
       "| 1971       | 0.0000000  | 150        | 10.40875   |  0.1603588 | -1.995932  | 0.01373907 | \n",
       "\n",
       "\n"
      ],
      "text/plain": [
       "  year y         x1  x2       x1_sc      x2_sc     reyear    \n",
       "1 1971 0.0000000  30 10.40875 -0.7126393 -1.995932 0.01373907\n",
       "2 1971 0.1184611  30 10.40875 -0.7126393 -1.995932 0.01373907\n",
       "3 1971 0.0000000  90 10.40875 -0.2761402 -1.995932 0.01373907\n",
       "4 1971 0.0000000 210 10.40875  0.5968579 -1.995932 0.01373907\n",
       "5 1971 0.0000000 300 10.40875  1.2516065 -1.995932 0.01373907\n",
       "6 1971 0.0000000 150 10.40875  0.1603588 -1.995932 0.01373907"
      ]
     },
     "metadata": {},
     "output_type": "display_data"
    }
   ],
   "source": [
    "head(dat.bin.re)"
   ]
  },
  {
   "cell_type": "markdown",
   "metadata": {},
   "source": [
    "Fit variable x2 against ranef.year"
   ]
  },
  {
   "cell_type": "code",
   "execution_count": 19,
   "metadata": {},
   "outputs": [],
   "source": [
    "m.bin.full <- glm(reyear ~\n",
    "                  x2_sc,\n",
    "           data = dat.bin.re,\n",
    "           family = gaussian)"
   ]
  },
  {
   "cell_type": "code",
   "execution_count": 20,
   "metadata": {},
   "outputs": [
    {
     "data": {
      "text/plain": [
       "\n",
       "Call:\n",
       "glm(formula = reyear ~ x2_sc, family = gaussian, data = dat.bin.re)\n",
       "\n",
       "Deviance Residuals: \n",
       "      Min         1Q     Median         3Q        Max  \n",
       "-0.008938  -0.003452  -0.001559   0.003270   0.013473  \n",
       "\n",
       "Coefficients:\n",
       "              Estimate Std. Error t value Pr(>|t|)    \n",
       "(Intercept)  3.589e-04  7.320e-05   4.903 9.73e-07 ***\n",
       "x2_sc       -1.235e-04  7.321e-05  -1.687   0.0916 .  \n",
       "---\n",
       "Signif. codes:  0 ‘***’ 0.001 ‘**’ 0.01 ‘*’ 0.05 ‘.’ 0.1 ‘ ’ 1\n",
       "\n",
       "(Dispersion parameter for gaussian family taken to be 2.633023e-05)\n",
       "\n",
       "    Null deviance: 0.12941  on 4913  degrees of freedom\n",
       "Residual deviance: 0.12933  on 4912  degrees of freedom\n",
       "  (61 observations deleted due to missingness)\n",
       "AIC: -37868\n",
       "\n",
       "Number of Fisher Scoring iterations: 2\n"
      ]
     },
     "metadata": {},
     "output_type": "display_data"
    }
   ],
   "source": [
    "summary(m.bin.full)"
   ]
  },
  {
   "cell_type": "markdown",
   "metadata": {},
   "source": [
    "\n",
    "The model predicted RE for each year, assuming all other model variables remain constant"
   ]
  },
  {
   "cell_type": "code",
   "execution_count": 22,
   "metadata": {},
   "outputs": [
    {
     "data": {
      "image/png": "[encoded data removed]",
      "text/plain": [
       "plot without title"
      ]
     },
     "metadata": {},
     "output_type": "display_data"
    }
   ],
   "source": [
    "plot(allEffects(m.bin.full.re))"
   ]
  },
  {
   "cell_type": "markdown",
   "metadata": {},
   "source": [
    "### Gamma model"
   ]
  },
  {
   "cell_type": "markdown",
   "metadata": {},
   "source": [
    "We fit Gamma model with log link using a similar set of predictors."
   ]
  },
  {
   "cell_type": "code",
   "execution_count": 24,
   "metadata": {},
   "outputs": [],
   "source": [
    "# drop rows with nas\n",
    "no.na.dat <- na.omit(dat)"
   ]
  },
  {
   "cell_type": "code",
   "execution_count": null,
   "metadata": {},
   "outputs": [],
   "source": []
  },
  {
   "cell_type": "code",
   "execution_count": null,
   "metadata": {},
   "outputs": [],
   "source": []
  },
  {
   "cell_type": "code",
   "execution_count": null,
   "metadata": {},
   "outputs": [],
   "source": []
  },
  {
   "cell_type": "code",
   "execution_count": null,
   "metadata": {},
   "outputs": [],
   "source": []
  },
  {
   "cell_type": "code",
   "execution_count": null,
   "metadata": {},
   "outputs": [],
   "source": []
  }
 ],
 "metadata": {
  "kernelspec": {
   "display_name": "R",
   "language": "R",
   "name": "ir"
  },
  "language_info": {
   "codemirror_mode": "r",
   "file_extension": ".r",
   "mimetype": "text/x-r-source",
   "name": "R",
   "pygments_lexer": "r",
   "version": "3.5.3"
  }
 },
 "nbformat": 4,
 "nbformat_minor": 2
}
