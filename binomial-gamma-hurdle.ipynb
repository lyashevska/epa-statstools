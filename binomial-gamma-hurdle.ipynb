{
 "cells": [
  {
   "cell_type": "markdown",
   "metadata": {},
   "source": [
    "## Binomial-Gamma Hurdle Models "
   ]
  },
  {
   "cell_type": "markdown",
   "metadata": {},
   "source": [
    "### Model description\n",
    "\n",
    "Dependent variable, a number of animals observed per minute (y) is semi-continuous (i.e. a point mass in a single value and a continuous distribution elsewhere). The data generating process for this type of data can be modelled using a gamma distribution. The main problem is however that response variable has a high proportion of zeros (96%), which is more than expected from a gamma distribution with, therefore it cannot be readily applied.\n",
    "\n",
    "Lets consider the two common methods for dealing with zero-inflated data:\n",
    "\n",
    "(1) Modelling a zero-inflation parameter that represents the probability a given 0 comes from the main distribution (say the negative binomial distribution) or is an excess 0;\n",
    "(2) Modelling the zero and non-zero data with one model and then modelling the non-zero data with another. This is often called a hurdle model.\n",
    "\n",
    "In (1), the response variable is modelled as a mixture of a Bernoulli distribution (a point mass at zero) and a Poisson distribution (or any other count distribution supported on non-negative integers).\n",
    "In (2), the basic idea is that a Bernoulli probability governs the binary outcome of whether a variable has a zero or positive realization. If the realization is positive, the hurdle is crossed, and the conditional distribution of the positives is governed by a truncated-at-zero model. Hurdle models model the zeros and non-zeros as two separate processes and can be useful in that they allow you to model the zeros and non-zeros with different predictors or different roles of the same predictors.\n",
    "\n",
    "Zero-inflation models may be more elegant and informative if the same predictors are thought to contribute to the extra and real zeros.\n",
    "\n",
    "Hurdle models can be useful in that they allow you to model the zeros and non-zeros with different predictors or different roles of the same predictors. Maybe one process leads to the zero/non-zero data and another leads to the non-zero magnitude.\n",
    "\n",
    "Here we shall focus on (2) and model the zeros separately from the non-zeros in a binomial-Gamma hurdle model.\n"
   ]
  },
  {
   "cell_type": "markdown",
   "metadata": {},
   "source": [
    "### Load libraries"
   ]
  },
  {
   "cell_type": "code",
   "execution_count": 25,
   "metadata": {},
   "outputs": [],
   "source": [
    "# library(R.utils)\n",
    "library(ggplot2)\n",
    "# library(GGally)\n",
    "# library(lmtest)\n",
    "# library(tidyverse)\n",
    "library(lme4)\n",
    "library(effects)\n",
    "library(optimx)"
   ]
  },
  {
   "cell_type": "code",
   "execution_count": 26,
   "metadata": {},
   "outputs": [
    {
     "data": {
      "text/plain": [
       "[1] \"2019-03-19 15:19:04 GMT\""
      ]
     },
     "metadata": {},
     "output_type": "display_data"
    }
   ],
   "source": [
    "set.seed(4322)\n",
    "Sys.time()"
   ]
  },
  {
   "cell_type": "code",
   "execution_count": 15,
   "metadata": {},
   "outputs": [],
   "source": [
    "# require(devtools)\n",
    "# install_version(\"effects\", version = \"4.0-0\")"
   ]
  },
  {
   "cell_type": "markdown",
   "metadata": {},
   "source": [
    "### Read in data"
   ]
  },
  {
   "cell_type": "code",
   "execution_count": 31,
   "metadata": {},
   "outputs": [],
   "source": [
    "dat <- read.csv(file = 'data.csv', row.names=1)\n",
    "# sunfish <- read.csv('ignore/sunfish.csv')"
   ]
  },
  {
   "cell_type": "markdown",
   "metadata": {},
   "source": [
    "Variable y is a response variable, variables x1 and x2 are explanatory variables. Variable x1 represent a number of observers, variable x2 represent an environmental variable (such as sea surface temperature)."
   ]
  },
  {
   "cell_type": "code",
   "execution_count": 29,
   "metadata": {},
   "outputs": [
    {
     "data": {
      "text/html": [
       "<table>\n",
       "<thead><tr><th scope=col>y</th><th scope=col>x1</th><th scope=col>x2</th><th scope=col>year</th></tr></thead>\n",
       "<tbody>\n",
       "\t<tr><td>0       </td><td>1       </td><td>10.40875</td><td>1971    </td></tr>\n",
       "\t<tr><td>0       </td><td>1       </td><td>10.40875</td><td>1971    </td></tr>\n",
       "\t<tr><td>0       </td><td>1       </td><td>10.40875</td><td>1971    </td></tr>\n",
       "\t<tr><td>0       </td><td>1       </td><td>10.40875</td><td>1971    </td></tr>\n",
       "\t<tr><td>0       </td><td>1       </td><td>10.40875</td><td>1971    </td></tr>\n",
       "\t<tr><td>0       </td><td>1       </td><td>10.40875</td><td>1971    </td></tr>\n",
       "</tbody>\n",
       "</table>\n"
      ],
      "text/latex": [
       "\\begin{tabular}{r|llll}\n",
       " y & x1 & x2 & year\\\\\n",
       "\\hline\n",
       "\t 0        & 1        & 10.40875 & 1971    \\\\\n",
       "\t 0        & 1        & 10.40875 & 1971    \\\\\n",
       "\t 0        & 1        & 10.40875 & 1971    \\\\\n",
       "\t 0        & 1        & 10.40875 & 1971    \\\\\n",
       "\t 0        & 1        & 10.40875 & 1971    \\\\\n",
       "\t 0        & 1        & 10.40875 & 1971    \\\\\n",
       "\\end{tabular}\n"
      ],
      "text/markdown": [
       "\n",
       "y | x1 | x2 | year | \n",
       "|---|---|---|---|---|---|\n",
       "| 0        | 1        | 10.40875 | 1971     | \n",
       "| 0        | 1        | 10.40875 | 1971     | \n",
       "| 0        | 1        | 10.40875 | 1971     | \n",
       "| 0        | 1        | 10.40875 | 1971     | \n",
       "| 0        | 1        | 10.40875 | 1971     | \n",
       "| 0        | 1        | 10.40875 | 1971     | \n",
       "\n",
       "\n"
      ],
      "text/plain": [
       "  y x1 x2       year\n",
       "1 0 1  10.40875 1971\n",
       "2 0 1  10.40875 1971\n",
       "3 0 1  10.40875 1971\n",
       "4 0 1  10.40875 1971\n",
       "5 0 1  10.40875 1971\n",
       "6 0 1  10.40875 1971"
      ]
     },
     "metadata": {},
     "output_type": "display_data"
    }
   ],
   "source": [
    "head(dat)"
   ]
  },
  {
   "cell_type": "markdown",
   "metadata": {},
   "source": [
    "### Scale data"
   ]
  },
  {
   "cell_type": "code",
   "execution_count": 39,
   "metadata": {},
   "outputs": [
    {
     "data": {
      "text/plain": [
       "       y                  x1               x2              year     \n",
       " Min.   :0.000000   Min.   : 1.000   Min.   : 9.207   Min.   :1971  \n",
       " 1st Qu.:0.000000   1st Qu.: 2.000   1st Qu.:13.169   1st Qu.:1984  \n",
       " Median :0.000000   Median : 4.000   Median :15.261   Median :1998  \n",
       " Mean   :0.002676   Mean   : 4.824   Mean   :14.621   Mean   :1996  \n",
       " 3rd Qu.:0.000000   3rd Qu.: 6.000   3rd Qu.:16.288   3rd Qu.:2009  \n",
       " Max.   :0.132941   Max.   :40.000   Max.   :18.168   Max.   :2017  \n",
       "                    NA's   :1485     NA's   :61                     \n",
       "     x1_sc             x2_sc        \n",
       " Min.   :-0.9718   Min.   :-2.5651  \n",
       " 1st Qu.:-0.7176   1st Qu.:-0.6882  \n",
       " Median :-0.2093   Median : 0.3032  \n",
       " Mean   : 0.0000   Mean   : 0.0000  \n",
       " 3rd Qu.: 0.2990   3rd Qu.: 0.7894  \n",
       " Max.   : 8.9408   Max.   : 1.6802  \n",
       " NA's   :1485      NA's   :61       "
      ]
     },
     "metadata": {},
     "output_type": "display_data"
    }
   ],
   "source": [
    "# select variables to scale\n",
    "cols = c(\"x1\", \"x2\")\n",
    "# scale variables and add to a df\n",
    "dat[, paste0(cols, \"_\", \"sc\")] <- scale(dat[ ,cols])\n",
    "summary(dat)"
   ]
  },
  {
   "cell_type": "markdown",
   "metadata": {},
   "source": [
    "### Binomial model\n",
    "\n",
    "When relating the sightings to temperature what we are interested in detecting are annual trends over and above seasonal fluctuations that we would expect. So we would expect that within each year as temperature increases during spring and summer and zooplankton blooms occur, sunfish sightings will increase. What we want to know is -- in a year when zooplankton abundance and temperatures are high are sunfish sightings also high. \n"
   ]
  },
  {
   "cell_type": "code",
   "execution_count": 43,
   "metadata": {},
   "outputs": [
    {
     "data": {
      "text/plain": [
       "\n",
       "Call:\n",
       "glm(formula = ifelse(dat$y > 0, 1, 0) ~ x1_sc + x2_sc + year, \n",
       "    family = binomial(link = logit), data = dat)\n",
       "\n",
       "Deviance Residuals: \n",
       "    Min       1Q   Median       3Q      Max  \n",
       "-0.3255  -0.2907  -0.2742  -0.2629   2.6607  \n",
       "\n",
       "Coefficients:\n",
       "             Estimate Std. Error z value Pr(>|z|)\n",
       "(Intercept) 17.079047  13.167616   1.297    0.195\n",
       "x1_sc        0.018503   0.089106   0.208    0.836\n",
       "x2_sc        0.051264   0.094037   0.545    0.586\n",
       "year        -0.010179   0.006605  -1.541    0.123\n",
       "\n",
       "(Dispersion parameter for binomial family taken to be 1)\n",
       "\n",
       "    Null deviance: 1136.3  on 3487  degrees of freedom\n",
       "Residual deviance: 1133.6  on 3484  degrees of freedom\n",
       "  (1487 observations deleted due to missingness)\n",
       "AIC: 1141.6\n",
       "\n",
       "Number of Fisher Scoring iterations: 6\n"
      ]
     },
     "metadata": {},
     "output_type": "display_data"
    }
   ],
   "source": [
    "summary(glm(ifelse(dat$y>0,1,0) ~\n",
    "            x1_sc +\n",
    "            x2_sc +\n",
    "            year,\n",
    "            data = dat,\n",
    "        family = binomial(link = logit)))"
   ]
  },
  {
   "cell_type": "markdown",
   "metadata": {},
   "source": [
    "We see that observer related variables (x1) is highly significant. We try to isolate its effect for each year.\n",
    "We apply a mixed-effect modeling framework and fit a varying intercept model with lmer. This approach is useful when we are interested explicitly in variation among and by groups. Group level variables are specified using a special syntax: (1|year) to fit a linear model with a varying-intercept group effect using the variable year.\n",
    "\n"
   ]
  },
  {
   "cell_type": "markdown",
   "metadata": {},
   "source": [
    "We include 'year' as random effect with noise variables."
   ]
  },
  {
   "cell_type": "code",
   "execution_count": 45,
   "metadata": {},
   "outputs": [],
   "source": [
    "m.bin.full.re <- glmer(ifelse(dat$y>0,1,0) ~\n",
    "             x1_sc +\n",
    "             (1|year) ,\n",
    "           data = dat,\n",
    "#            control = glmerControl(optimizer ='optimx', optCtrl=list(method='nlminb')),\n",
    "           family = binomial(link = logit))"
   ]
  },
  {
   "cell_type": "code",
   "execution_count": 46,
   "metadata": {},
   "outputs": [
    {
     "data": {
      "text/plain": [
       "Generalized linear mixed model fit by maximum likelihood (Laplace\n",
       "  Approximation) [glmerMod]\n",
       " Family: binomial  ( logit )\n",
       "Formula: ifelse(dat$y > 0, 1, 0) ~ x1_sc + (1 | year)\n",
       "   Data: dat\n",
       "\n",
       "     AIC      BIC   logLik deviance df.resid \n",
       "  1141.4   1159.9   -567.7   1135.4     3487 \n",
       "\n",
       "Scaled residuals: \n",
       "    Min      1Q  Median      3Q     Max \n",
       "-0.2532 -0.2034 -0.1948 -0.1898  5.5795 \n",
       "\n",
       "Random effects:\n",
       " Groups Name        Variance Std.Dev.\n",
       " year   (Intercept) 0.05928  0.2435  \n",
       "Number of obs: 3490, groups:  year, 38\n",
       "\n",
       "Fixed effects:\n",
       "            Estimate Std. Error z value Pr(>|z|)    \n",
       "(Intercept) -3.24648    0.10363 -31.327   <2e-16 ***\n",
       "x1_sc        0.04109    0.08446   0.486    0.627    \n",
       "---\n",
       "Signif. codes:  0 ‘***’ 0.001 ‘**’ 0.01 ‘*’ 0.05 ‘.’ 0.1 ‘ ’ 1\n",
       "\n",
       "Correlation of Fixed Effects:\n",
       "      (Intr)\n",
       "x1_sc -0.044"
      ]
     },
     "metadata": {},
     "output_type": "display_data"
    }
   ],
   "source": [
    "summary(m.bin.full.re)"
   ]
  },
  {
   "cell_type": "code",
   "execution_count": null,
   "metadata": {},
   "outputs": [],
   "source": []
  },
  {
   "cell_type": "code",
   "execution_count": null,
   "metadata": {},
   "outputs": [],
   "source": []
  }
 ],
 "metadata": {
  "kernelspec": {
   "display_name": "R",
   "language": "R",
   "name": "ir"
  },
  "language_info": {
   "codemirror_mode": "r",
   "file_extension": ".r",
   "mimetype": "text/x-r-source",
   "name": "R",
   "pygments_lexer": "r",
   "version": "3.5.3"
  }
 },
 "nbformat": 4,
 "nbformat_minor": 2
}
